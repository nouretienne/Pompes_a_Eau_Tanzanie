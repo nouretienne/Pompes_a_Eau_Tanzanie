{
 "cells": [
  {
   "cell_type": "markdown",
   "id": "e89befe3-a5ee-4677-a826-14cb35e72e7f",
   "metadata": {},
   "source": [
    "#### Pompes à eau en Tanzanie"
   ]
  },
  {
   "cell_type": "code",
   "execution_count": 1,
   "id": "3ac7d4be-0369-42d7-a4a3-19c92c57e70d",
   "metadata": {},
   "outputs": [
    {
     "data": {
      "text/plain": [
       "((47520, 41), (11880, 41), (14358, 40))"
      ]
     },
     "execution_count": 1,
     "metadata": {},
     "output_type": "execute_result"
    }
   ],
   "source": [
    "import pandas as pd\n",
    "from sklearn.model_selection import train_test_split\n",
    "\n",
    "DATA_TRAIN_FEATURES_PATH = \"https://raw.githubusercontent.com/nouretienne/DS-Unit-2-Linear-Models/master/data/waterpumps/train_features.csv\"\n",
    "DATA_TRAIN_LABELS_PATH = \"https://raw.githubusercontent.com/nouretienne/DS-Unit-2-Linear-Models/master/data/waterpumps/train_labels.csv\"\n",
    "DATA_TEST_PATH = \"https://raw.githubusercontent.com/nouretienne/DS-Unit-2-Linear-Models/master/data/waterpumps/test_features.csv\"\n",
    "train = pd.merge(pd.read_csv(DATA_TRAIN_FEATURES_PATH), pd.read_csv(DATA_TRAIN_LABELS_PATH))\n",
    "test = pd.read_csv(DATA_TEST_PATH)\n",
    "\n",
    "# on sépare le train en train et validation\n",
    "train, val = train_test_split(train, train_size = 0.80, test_size=0.20, stratify=train[\"status_group\"], random_state=42)\n",
    "train.shape, val.shape, test.shape"
   ]
  },
  {
   "cell_type": "code",
   "execution_count": null,
   "id": "d89601df-e6af-4371-932a-67ce348fa17a",
   "metadata": {},
   "outputs": [],
   "source": []
  },
  {
   "cell_type": "code",
   "execution_count": null,
   "id": "b0800583-ae09-4fe5-8570-c2790e9125a5",
   "metadata": {},
   "outputs": [],
   "source": []
  }
 ],
 "metadata": {
  "kernelspec": {
   "display_name": "pro7_env",
   "language": "python",
   "name": "pro7_env"
  },
  "language_info": {
   "codemirror_mode": {
    "name": "ipython",
    "version": 3
   },
   "file_extension": ".py",
   "mimetype": "text/x-python",
   "name": "python",
   "nbconvert_exporter": "python",
   "pygments_lexer": "ipython3",
   "version": "3.9.12"
  }
 },
 "nbformat": 4,
 "nbformat_minor": 5
}
